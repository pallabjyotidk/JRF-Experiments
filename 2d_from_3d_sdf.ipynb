{
 "cells": [
  {
   "cell_type": "code",
   "execution_count": 102,
   "metadata": {},
   "outputs": [],
   "source": [
    "import torch\n",
    "import matplotlib.pyplot as plt\n",
    "import numpy as np\n",
    "import mcubes\n",
    "# import pytorch3d"
   ]
  },
  {
   "cell_type": "code",
   "execution_count": 4,
   "metadata": {},
   "outputs": [
    {
     "ename": "RuntimeError",
     "evalue": "mat1 and mat2 shapes cannot be multiplied (4x4 and 3x9)",
     "output_type": "error",
     "traceback": [
      "\u001b[0;31m---------------------------------------------------------------------------\u001b[0m",
      "\u001b[0;31mRuntimeError\u001b[0m                              Traceback (most recent call last)",
      "Cell \u001b[0;32mIn[4], line 37\u001b[0m\n\u001b[1;32m     34\u001b[0m view_matrix[:\u001b[39m3\u001b[39m, \u001b[39m2\u001b[39m] \u001b[39m=\u001b[39m \u001b[39m-\u001b[39mforward\n\u001b[1;32m     36\u001b[0m \u001b[39m# Apply the view transformation to the 3D object\u001b[39;00m\n\u001b[0;32m---> 37\u001b[0m transformed_object \u001b[39m=\u001b[39m torch\u001b[39m.\u001b[39;49mmatmul(view_matrix, object_3d\u001b[39m.\u001b[39;49mview(\u001b[39m3\u001b[39;49m, \u001b[39m-\u001b[39;49m\u001b[39m1\u001b[39;49m))\n\u001b[1;32m     38\u001b[0m transformed_object \u001b[39m=\u001b[39m transformed_object[:\u001b[39m3\u001b[39m]\u001b[39m.\u001b[39mview(\u001b[39m3\u001b[39m, \u001b[39m3\u001b[39m, \u001b[39m3\u001b[39m)\n\u001b[1;32m     40\u001b[0m views\u001b[39m.\u001b[39mappend(transformed_object)\n",
      "\u001b[0;31mRuntimeError\u001b[0m: mat1 and mat2 shapes cannot be multiplied (4x4 and 3x9)"
     ]
    }
   ],
   "source": [
    "# Define the 3D object\n",
    "object_3d = torch.tensor([\n",
    "    [[1, 0, 0], [0, 1, 0], [0, 0, 1]],\n",
    "    [[2, 0, 0], [0, 2, 0], [0, 0, 2]],\n",
    "    [[3, 0, 0], [0, 3, 0], [0, 0, 3]]\n",
    "], dtype=torch.float)\n",
    "\n",
    "# Define the camera parameters for the two views\n",
    "camera_parameters = [\n",
    "    {'position': torch.tensor([0, 0, -5], dtype=torch.float),\n",
    "     'look_at': torch.tensor([0, 0, 0], dtype=torch.float)},\n",
    "    {'position': torch.tensor([-5, 0, 0], dtype=torch.float),\n",
    "     'look_at': torch.tensor([0, 0, 0], dtype=torch.float)}\n",
    "]\n",
    "\n",
    "# Render the two views\n",
    "views = []\n",
    "for parameters in camera_parameters:\n",
    "    position = parameters['position']\n",
    "    look_at = parameters['look_at']\n",
    "\n",
    "    # Compute the view transformation matrix\n",
    "    up = torch.tensor([0, 1, 0], dtype=torch.float)\n",
    "    view_matrix = torch.zeros((4, 4))\n",
    "    view_matrix[:3, 3] = position\n",
    "    view_matrix[3, 3] = 1\n",
    "\n",
    "    forward = torch.nn.functional.normalize(look_at - position, dim=0)\n",
    "    right = torch.cross(up, forward)\n",
    "    up = torch.cross(forward, right)\n",
    "\n",
    "    view_matrix[:3, 0] = right\n",
    "    view_matrix[:3, 1] = up\n",
    "    view_matrix[:3, 2] = -forward\n",
    "\n",
    "    # Apply the view transformation to the 3D object\n",
    "    transformed_object = torch.matmul(view_matrix, object_3d.view(3, -1))\n",
    "    transformed_object = transformed_object[:3].view(3, 3, 3)\n",
    "\n",
    "    views.append(transformed_object)\n",
    "\n",
    "# Visualize the two views\n",
    "fig, axes = plt.subplots(1, 2, figsize=(10, 5))\n",
    "for i, view in enumerate(views):\n",
    "    axes[i].imshow(view.numpy())\n",
    "    axes[i].set_title(f\"View {i+1}\")\n",
    "\n",
    "plt.show()"
   ]
  },
  {
   "cell_type": "code",
   "execution_count": 144,
   "metadata": {},
   "outputs": [],
   "source": [
    "root = \"../../data/shapenet/02773838/1b84dededd445058e44a5473032f38f/input_4.npz\"\n",
    "data = np.load(root)\n",
    "A = data['tsdf']\n",
    "# print(type(A))\n"
   ]
  },
  {
   "cell_type": "code",
   "execution_count": 134,
   "metadata": {},
   "outputs": [
    {
     "data": {
      "text/plain": [
       "tensor([[[ 1.5000,  1.0000,  1.0000],\n",
       "         [ 1.0000,  0.0000,  1.0000],\n",
       "         [ 1.0000,  1.0000,  1.0000]],\n",
       "\n",
       "        [[ 2.0000,  0.0000, -2.0000],\n",
       "         [-2.0000, -2.5000,  2.0000],\n",
       "         [ 2.0000, -2.0000,  0.0000]],\n",
       "\n",
       "        [[ 3.0000,  3.0000,  3.0000],\n",
       "         [ 3.0000,  0.0000,  3.0000],\n",
       "         [ 3.0000,  3.5000,  3.0000]]])"
      ]
     },
     "execution_count": 134,
     "metadata": {},
     "output_type": "execute_result"
    }
   ],
   "source": [
    "A_2 = torch.tensor([\n",
    "    [[1.5, 1, 1], [1, 0, 1], [1, 1, 1]],\n",
    "    [[2, 0, -2], [-2, -2.5, 2], [2, -2, 0]],\n",
    "    [[3, 3, 3], [3, 0, 3], [3, 3.5, 3]]\n",
    "], dtype=torch.float)\n",
    "A_2\n"
   ]
  },
  {
   "cell_type": "code",
   "execution_count": 135,
   "metadata": {},
   "outputs": [
    {
     "name": "stdout",
     "output_type": "stream",
     "text": [
      "[[[ 1.   1.   1. ]\n",
      "  [ 2.  -2.   0. ]\n",
      "  [ 3.   3.5  3. ]]\n",
      "\n",
      " [[ 1.   0.   1. ]\n",
      "  [-2.  -2.5  2. ]\n",
      "  [ 3.   0.   3. ]]\n",
      "\n",
      " [[ 1.5  1.   1. ]\n",
      "  [ 2.   0.  -2. ]\n",
      "  [ 3.   3.   3. ]]]\n"
     ]
    }
   ],
   "source": [
    "A_2 = A_2.numpy()\n",
    "rotated_tensor_A2 = np.rot90(A_2, axes=(0,1))\n",
    "print(rotated_tensor_A2)"
   ]
  },
  {
   "cell_type": "code",
   "execution_count": 118,
   "metadata": {},
   "outputs": [],
   "source": [
    "# B = np.zeros(A.shape)\n",
    "B = np.random.randint(0, 2, A.shape)\n",
    "B = np.where(A <= 1e-10, np.multiply(A, B), A)\n",
    "# B = torch.from_numpy(B)\n",
    "# A = torch.from_numpy(A)\n",
    "# B = torch.mul(B, A)\n",
    "# B = B.numpy()"
   ]
  },
  {
   "cell_type": "code",
   "execution_count": 119,
   "metadata": {},
   "outputs": [],
   "source": [
    "vertices, triangles = mcubes.marching_cubes(B, 0)\n",
    "mcubes.export_obj(vertices, triangles, 'outputs/input_corrupted_3.obj')"
   ]
  },
  {
   "cell_type": "code",
   "execution_count": 145,
   "metadata": {},
   "outputs": [],
   "source": [
    "rotated_tensor = np.rot90(A, axes=(0, 1))\n",
    "B_rotated_tensor = np.random.randint(0, 2, rotated_tensor.shape)\n",
    "B_rotated_tensor = np.where(A <= 1e-10, np.multiply(rotated_tensor, B_rotated_tensor), rotated_tensor)"
   ]
  },
  {
   "cell_type": "code",
   "execution_count": 146,
   "metadata": {},
   "outputs": [],
   "source": [
    "vertices, triangles = mcubes.marching_cubes(B_rotated_tensor, 0)\n",
    "vertices_1, triangles_1 = mcubes.marching_cubes(rotated_tensor, 0)\n",
    "mcubes.export_obj(vertices, triangles, 'outputs/input_corrupted_rotated_first.obj')\n",
    "mcubes.export_obj(vertices_1, triangles_1, 'outputs/input_rotated_first.obj')"
   ]
  }
 ],
 "metadata": {
  "kernelspec": {
   "display_name": "pytorch_gpu_new",
   "language": "python",
   "name": "python3"
  },
  "language_info": {
   "codemirror_mode": {
    "name": "ipython",
    "version": 3
   },
   "file_extension": ".py",
   "mimetype": "text/x-python",
   "name": "python",
   "nbconvert_exporter": "python",
   "pygments_lexer": "ipython3",
   "version": "3.10.9"
  },
  "orig_nbformat": 4
 },
 "nbformat": 4,
 "nbformat_minor": 2
}
