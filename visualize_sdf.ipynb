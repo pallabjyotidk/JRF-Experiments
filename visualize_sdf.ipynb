{
 "cells": [
  {
   "cell_type": "code",
   "execution_count": 1,
   "metadata": {},
   "outputs": [
    {
     "name": "stdout",
     "output_type": "stream",
     "text": [
      "Jupyter environment detected. Enabling Open3D WebVisualizer.\n",
      "[Open3D INFO] WebRTC GUI backend enabled.\n",
      "[Open3D INFO] WebRTCWindowSystem: HTTP handshake server disabled.\n"
     ]
    }
   ],
   "source": [
    "import numpy as np\n",
    "import open3d as o3d\n",
    "import mcubes"
   ]
  },
  {
   "attachments": {},
   "cell_type": "markdown",
   "metadata": {},
   "source": [
    "## GT visualization"
   ]
  },
  {
   "cell_type": "code",
   "execution_count": 5,
   "metadata": {},
   "outputs": [
    {
     "name": "stdout",
     "output_type": "stream",
     "text": [
      "['tsdf', 'voxels']\n"
     ]
    }
   ],
   "source": [
    "gt_root = \"D:/Projects/Datasets/shapenet/03001627/2a6b8437623a374e504721639e19f609/input_4.npz\"\n",
    "gt_data = np.load(gt_root)\n",
    "print(gt_data.files)"
   ]
  },
  {
   "cell_type": "code",
   "execution_count": 3,
   "metadata": {},
   "outputs": [],
   "source": [
    "gt_voxels = gt_data['tsdf']"
   ]
  },
  {
   "cell_type": "code",
   "execution_count": 4,
   "metadata": {},
   "outputs": [],
   "source": [
    "vertices, triangles = mcubes.marching_cubes(gt_voxels, 0)\n",
    "mcubes.export_obj(vertices, triangles, 'f609_input_4.obj')"
   ]
  },
  {
   "attachments": {},
   "cell_type": "markdown",
   "metadata": {},
   "source": [
    "## Prediction visualization\n"
   ]
  },
  {
   "cell_type": "code",
   "execution_count": 10,
   "metadata": {},
   "outputs": [
    {
     "name": "stdout",
     "output_type": "stream",
     "text": [
      "['predicted_voxels']\n"
     ]
    }
   ],
   "source": [
    "root = \"D:/Projects/JRF/related_code/shape_completion/PatchComplete/output/shapenet/02773838/1b84dededd445058e44a5473032f38f/input_4_pred.npz\"\n",
    "data = np.load(root)\n",
    "print(data.files)"
   ]
  },
  {
   "cell_type": "code",
   "execution_count": 11,
   "metadata": {},
   "outputs": [],
   "source": [
    "voxels = data['predicted_voxels']\n",
    "# print(voxels)"
   ]
  },
  {
   "cell_type": "code",
   "execution_count": 12,
   "metadata": {},
   "outputs": [],
   "source": [
    "vertices, triangles = mcubes.marching_cubes(voxels, 0)"
   ]
  },
  {
   "cell_type": "code",
   "execution_count": 13,
   "metadata": {},
   "outputs": [
    {
     "name": "stdout",
     "output_type": "stream",
     "text": [
      "[[ 5.91326348  8.         15.        ]\n",
      " [ 6.          7.1458829  15.        ]\n",
      " [ 6.          8.         14.82340128]\n",
      " ...\n",
      " [25.00002129 19.         15.        ]\n",
      " [26.00009551 13.         15.        ]\n",
      " [26.01756695 13.         16.        ]]\n",
      "vertices shape:  (1435, 3)\n",
      "[[   2    0    1]\n",
      " [   1    3    4]\n",
      " [   0    3    1]\n",
      " ...\n",
      " [1434 1419 1433]\n",
      " [1421 1419 1434]\n",
      " [1434 1417 1421]]\n",
      "triangles shape:  (2806, 3)\n"
     ]
    }
   ],
   "source": [
    "print(vertices)\n",
    "print(\"vertices shape: \", vertices.shape)\n",
    "print(triangles)\n",
    "print(\"triangles shape: \", triangles.shape)"
   ]
  },
  {
   "cell_type": "code",
   "execution_count": 14,
   "metadata": {},
   "outputs": [],
   "source": [
    "mcubes.export_obj(vertices, triangles, '2_input_4_pred.obj')"
   ]
  },
  {
   "attachments": {},
   "cell_type": "markdown",
   "metadata": {},
   "source": [
    "## Priors Visualization\n"
   ]
  },
  {
   "cell_type": "code",
   "execution_count": 15,
   "metadata": {},
   "outputs": [],
   "source": [
    "root = \"patchComplete/priors/02747177_2.npy\"\n",
    "data = np.load(root)\n",
    "# print(data)"
   ]
  },
  {
   "cell_type": "code",
   "execution_count": 16,
   "metadata": {},
   "outputs": [],
   "source": [
    "vertices, triangles = mcubes.marching_cubes(data, 0)\n",
    "mcubes.export_obj(vertices, triangles, 'prior_02747177_2.obj')"
   ]
  }
 ],
 "metadata": {
  "kernelspec": {
   "display_name": "torch_gpu",
   "language": "python",
   "name": "python3"
  },
  "language_info": {
   "codemirror_mode": {
    "name": "ipython",
    "version": 3
   },
   "file_extension": ".py",
   "mimetype": "text/x-python",
   "name": "python",
   "nbconvert_exporter": "python",
   "pygments_lexer": "ipython3",
   "version": "3.9.16"
  },
  "orig_nbformat": 4
 },
 "nbformat": 4,
 "nbformat_minor": 2
}
