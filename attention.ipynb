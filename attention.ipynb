{
 "cells": [
  {
   "cell_type": "markdown",
   "metadata": {},
   "source": [
    "# Attention sample code"
   ]
  },
  {
   "cell_type": "code",
   "execution_count": 1,
   "metadata": {},
   "outputs": [],
   "source": [
    "from numpy import array\n",
    "from numpy import random\n",
    "from numpy import dot\n",
    "from scipy.special import softmax"
   ]
  },
  {
   "cell_type": "code",
   "execution_count": 2,
   "metadata": {},
   "outputs": [],
   "source": [
    "# encoder representations of four different words\n",
    "word_1 = array([1, 0, 0])\n",
    "word_2 = array([0, 1, 0])\n",
    "word_3 = array([1, 1, 0])\n",
    "word_4 = array([0, 0, 1])\n"
   ]
  },
  {
   "cell_type": "code",
   "execution_count": 9,
   "metadata": {},
   "outputs": [
    {
     "name": "stdout",
     "output_type": "stream",
     "text": [
      "Words vector: \n",
      "\n",
      "[[1 0 0]\n",
      " [0 1 0]\n",
      " [1 1 0]\n",
      " [0 0 1]]\n",
      "\n",
      "W_ vectors - \n",
      "\n",
      "[[2 0 2]\n",
      " [2 0 0]\n",
      " [2 1 2]]\n",
      "[[2 2 2]\n",
      " [0 2 1]\n",
      " [0 1 1]]\n",
      "[[1 1 0]\n",
      " [0 1 1]\n",
      " [0 0 0]]\n"
     ]
    }
   ],
   "source": [
    "# stacking the word embeddings into a single array\n",
    "words = array([word_1, word_2, word_3, word_4])\n",
    "print(\"Words vector: \\n\")\n",
    "print(words)\n",
    "# generating the weight matrices\n",
    "random.seed(42)\n",
    "W_Q = random.randint(3, size=(3, 3))\n",
    "W_K = random.randint(3, size=(3, 3))\n",
    "W_V = random.randint(3, size=(3, 3))\n",
    "print(\"\\nW_ vectors - \\n\")\n",
    "print(W_Q)\n",
    "print(W_K)\n",
    "print(W_V)\n"
   ]
  },
  {
   "cell_type": "code",
   "execution_count": 10,
   "metadata": {},
   "outputs": [],
   "source": [
    "# generating the queries, keys and values\n",
    "Q = words @ W_Q\n",
    "K = words @ W_K\n",
    "V = words @ W_V"
   ]
  },
  {
   "cell_type": "code",
   "execution_count": 12,
   "metadata": {},
   "outputs": [
    {
     "name": "stdout",
     "output_type": "stream",
     "text": [
      "Q is --\n",
      "\n",
      "[[2 0 2]\n",
      " [2 0 0]\n",
      " [4 0 2]\n",
      " [2 1 2]]\n",
      "\n",
      "K is --\n",
      "\n",
      "[[2 2 2]\n",
      " [0 2 1]\n",
      " [2 4 3]\n",
      " [0 1 1]]\n",
      "\n",
      "V is --\n",
      "\n",
      "[[1 1 0]\n",
      " [0 1 1]\n",
      " [1 2 1]\n",
      " [0 0 0]]\n"
     ]
    }
   ],
   "source": [
    "print(\"Q is --\\n\")\n",
    "print(Q)\n",
    "print(\"\\nK is --\\n\")\n",
    "print(K)\n",
    "print(\"\\nV is --\\n\")\n",
    "print(V)"
   ]
  },
  {
   "cell_type": "code",
   "execution_count": 17,
   "metadata": {},
   "outputs": [
    {
     "name": "stdout",
     "output_type": "stream",
     "text": [
      "[[ 8  2 10  2]\n",
      " [ 4  0  4  0]\n",
      " [12  2 14  2]\n",
      " [10  4 14  3]]\n",
      "[[2.36089863e-01 7.38987555e-03 7.49130386e-01 7.38987555e-03]\n",
      " [4.54826323e-01 4.51736775e-02 4.54826323e-01 4.51736775e-02]\n",
      " [2.39275049e-01 7.43870015e-04 7.59237211e-01 7.43870015e-04]\n",
      " [8.99501754e-02 2.81554063e-03 9.05653685e-01 1.58059922e-03]]\n"
     ]
    }
   ],
   "source": [
    "# scoring the query vectors against all key vectors\n",
    "scores = Q @ K.transpose()\n",
    "\n",
    "print(scores)\n",
    "\n",
    "# computing the weights by a softmax operation\n",
    "weights = softmax(scores / K.shape[1] ** 0.5, axis=1)\n",
    "\n",
    "# print(\"K.shape.. \", K.shape[1])\n",
    "print(weights)"
   ]
  },
  {
   "cell_type": "code",
   "execution_count": 18,
   "metadata": {},
   "outputs": [
    {
     "name": "stdout",
     "output_type": "stream",
     "text": [
      "[[0.98522025 1.74174051 0.75652026]\n",
      " [0.90965265 1.40965265 0.5       ]\n",
      " [0.99851226 1.75849334 0.75998108]\n",
      " [0.99560386 1.90407309 0.90846923]]\n"
     ]
    }
   ],
   "source": [
    "# computing the attention by a weighted sum of the value vectors\n",
    "attention = weights @ V\n",
    "\n",
    "print(attention)"
   ]
  },
  {
   "attachments": {},
   "cell_type": "markdown",
   "metadata": {},
   "source": [
    "# KQV Concepts"
   ]
  },
  {
   "cell_type": "code",
   "execution_count": 1,
   "metadata": {},
   "outputs": [
    {
     "data": {
      "text/html": [
       "<div>\n",
       "<style scoped>\n",
       "    .dataframe tbody tr th:only-of-type {\n",
       "        vertical-align: middle;\n",
       "    }\n",
       "\n",
       "    .dataframe tbody tr th {\n",
       "        vertical-align: top;\n",
       "    }\n",
       "\n",
       "    .dataframe thead th {\n",
       "        text-align: right;\n",
       "    }\n",
       "</style>\n",
       "<table border=\"1\" class=\"dataframe\">\n",
       "  <thead>\n",
       "    <tr style=\"text-align: right;\">\n",
       "      <th></th>\n",
       "      <th>Star Wars</th>\n",
       "      <th>The Matrix</th>\n",
       "      <th>Iron man</th>\n",
       "      <th>U got mail</th>\n",
       "      <th>Titanic</th>\n",
       "    </tr>\n",
       "  </thead>\n",
       "  <tbody>\n",
       "    <tr>\n",
       "      <th>P1</th>\n",
       "      <td>1</td>\n",
       "      <td>1</td>\n",
       "      <td>1</td>\n",
       "      <td>0</td>\n",
       "      <td>0</td>\n",
       "    </tr>\n",
       "    <tr>\n",
       "      <th>P2</th>\n",
       "      <td>3</td>\n",
       "      <td>3</td>\n",
       "      <td>3</td>\n",
       "      <td>0</td>\n",
       "      <td>0</td>\n",
       "    </tr>\n",
       "    <tr>\n",
       "      <th>P3</th>\n",
       "      <td>4</td>\n",
       "      <td>4</td>\n",
       "      <td>4</td>\n",
       "      <td>0</td>\n",
       "      <td>0</td>\n",
       "    </tr>\n",
       "    <tr>\n",
       "      <th>P4</th>\n",
       "      <td>5</td>\n",
       "      <td>5</td>\n",
       "      <td>5</td>\n",
       "      <td>0</td>\n",
       "      <td>0</td>\n",
       "    </tr>\n",
       "    <tr>\n",
       "      <th>P5</th>\n",
       "      <td>0</td>\n",
       "      <td>2</td>\n",
       "      <td>0</td>\n",
       "      <td>4</td>\n",
       "      <td>4</td>\n",
       "    </tr>\n",
       "    <tr>\n",
       "      <th>P6</th>\n",
       "      <td>0</td>\n",
       "      <td>0</td>\n",
       "      <td>0</td>\n",
       "      <td>5</td>\n",
       "      <td>5</td>\n",
       "    </tr>\n",
       "    <tr>\n",
       "      <th>P7</th>\n",
       "      <td>0</td>\n",
       "      <td>1</td>\n",
       "      <td>0</td>\n",
       "      <td>2</td>\n",
       "      <td>2</td>\n",
       "    </tr>\n",
       "  </tbody>\n",
       "</table>\n",
       "</div>"
      ],
      "text/plain": [
       "    Star Wars  The Matrix  Iron man  U got mail  Titanic\n",
       "P1          1           1         1           0        0\n",
       "P2          3           3         3           0        0\n",
       "P3          4           4         4           0        0\n",
       "P4          5           5         5           0        0\n",
       "P5          0           2         0           4        4\n",
       "P6          0           0         0           5        5\n",
       "P7          0           1         0           2        2"
      ]
     },
     "execution_count": 1,
     "metadata": {},
     "output_type": "execute_result"
    }
   ],
   "source": [
    "import numpy as np\n",
    "import pandas as pd\n",
    "\n",
    "X = np.array([ \\\n",
    "   [1, 1, 1, 0, 0], \\\n",
    "   [3, 3, 3, 0, 0], \\\n",
    "   [4, 4, 4, 0, 0], \\\n",
    "   [5, 5, 5, 0, 0], \\\n",
    "   [0, 2, 0, 4, 4], \\\n",
    "   [0, 0, 0, 5, 5], \\\n",
    "   [0, 1, 0, 2, 2], \\\n",
    "])\n",
    "pd.DataFrame(X,\n",
    "    index=['P1', 'P2', 'P3', 'P4', 'P5', 'P6', 'P7'],\n",
    "    columns=[\"Star Wars\", \"The Matrix\", \"Iron man\", \"U got mail\", \"Titanic\"])"
   ]
  },
  {
   "cell_type": "code",
   "execution_count": 2,
   "metadata": {},
   "outputs": [
    {
     "data": {
      "text/plain": [
       "(array([[-0.14, -0.02, -0.01,  0.56, -0.38],\n",
       "        [-0.41, -0.07, -0.03,  0.21,  0.76],\n",
       "        [-0.55, -0.09, -0.04, -0.72, -0.18],\n",
       "        [-0.69, -0.12, -0.05,  0.34, -0.23],\n",
       "        [-0.15,  0.59,  0.65,  0.00,  0.20],\n",
       "        [-0.07,  0.73, -0.68,  0.00,  0.00],\n",
       "        [-0.08,  0.30,  0.33,  0.00, -0.40]]),\n",
       " array([12.48,  9.51,  1.35,  0.00,  0.00]),\n",
       " array([[-0.56, -0.59, -0.56, -0.09, -0.09],\n",
       "        [-0.13,  0.03, -0.13,  0.70,  0.70],\n",
       "        [-0.41,  0.80, -0.41, -0.09, -0.09],\n",
       "        [-0.71,  0.00,  0.71,  0.00,  0.00],\n",
       "        [ 0.00, -0.00,  0.00, -0.71,  0.71]]))"
      ]
     },
     "execution_count": 2,
     "metadata": {},
     "output_type": "execute_result"
    }
   ],
   "source": [
    "from numpy import linalg as la\n",
    "\n",
    "np.set_printoptions(precision=2, suppress=True, floatmode='maxprec_equal')\n",
    "\n",
    "U, s, Vt = la.svd(X, full_matrices=False)\n",
    "U, s, Vt"
   ]
  },
  {
   "cell_type": "code",
   "execution_count": 5,
   "metadata": {},
   "outputs": [
    {
     "data": {
      "text/plain": [
       "(array([[-0.14, -0.02],\n",
       "        [-0.41, -0.07],\n",
       "        [-0.55, -0.09],\n",
       "        [-0.69, -0.12],\n",
       "        [-0.15,  0.59],\n",
       "        [-0.07,  0.73],\n",
       "        [-0.08,  0.30]]),\n",
       " array([12.48,  9.51]),\n",
       " array([[-0.56, -0.13],\n",
       "        [-0.59,  0.03],\n",
       "        [-0.56, -0.13],\n",
       "        [-0.09,  0.70],\n",
       "        [-0.09,  0.70]]))"
      ]
     },
     "execution_count": 5,
     "metadata": {},
     "output_type": "execute_result"
    }
   ],
   "source": [
    "k = 2\n",
    "U_k, s_k, Vt_k = U[:, :k], s[:k], Vt[:k, :]\n",
    "V_k = Vt_k.T\n",
    "U_k, s_k, V_k"
   ]
  },
  {
   "cell_type": "code",
   "execution_count": 6,
   "metadata": {},
   "outputs": [
    {
     "data": {
      "text/plain": [
       "0.0"
      ]
     },
     "execution_count": 6,
     "metadata": {},
     "output_type": "execute_result"
    }
   ],
   "source": [
    "P8 = np.array([5, 0, 0, 0, 0])\n",
    "P9 = np.array([0, 4, 5, 0, 0])\n",
    "cos_sim = P8.dot(P9) / (la.norm(P8) * la.norm(P9))\n",
    "cos_sim"
   ]
  }
 ],
 "metadata": {
  "kernelspec": {
   "display_name": "torch_1",
   "language": "python",
   "name": "python3"
  },
  "language_info": {
   "codemirror_mode": {
    "name": "ipython",
    "version": 3
   },
   "file_extension": ".py",
   "mimetype": "text/x-python",
   "name": "python",
   "nbconvert_exporter": "python",
   "pygments_lexer": "ipython3",
   "version": "3.9.16"
  },
  "orig_nbformat": 4
 },
 "nbformat": 4,
 "nbformat_minor": 2
}
