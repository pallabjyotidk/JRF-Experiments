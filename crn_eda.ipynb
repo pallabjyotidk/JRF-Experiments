{
 "cells": [
  {
   "cell_type": "code",
   "execution_count": 1,
   "metadata": {},
   "outputs": [
    {
     "name": "stdout",
     "output_type": "stream",
     "text": [
      "Jupyter environment detected. Enabling Open3D WebVisualizer.\n",
      "[Open3D INFO] WebRTC GUI backend enabled.\n",
      "[Open3D INFO] WebRTCWindowSystem: HTTP handshake server disabled.\n"
     ]
    }
   ],
   "source": [
    "import os\n",
    "import os.path\n",
    "import torch\n",
    "import numpy as np\n",
    "import h5py\n",
    "import open3d as o3d"
   ]
  },
  {
   "cell_type": "code",
   "execution_count": 5,
   "metadata": {},
   "outputs": [],
   "source": [
    "root = 'D:/datasets/CRN'"
   ]
  },
  {
   "cell_type": "code",
   "execution_count": 6,
   "metadata": {},
   "outputs": [],
   "source": [
    "train_path = root + '/train_data.h5'"
   ]
  },
  {
   "cell_type": "code",
   "execution_count": 7,
   "metadata": {},
   "outputs": [
    {
     "data": {
      "text/plain": [
       "<KeysViewHDF5 ['complete_pcds', 'incomplete_pcds', 'labels']>"
      ]
     },
     "execution_count": 7,
     "metadata": {},
     "output_type": "execute_result"
    }
   ],
   "source": [
    "data = h5py.File(train_path, 'r')\n",
    "data.keys()"
   ]
  },
  {
   "cell_type": "code",
   "execution_count": 18,
   "metadata": {},
   "outputs": [
    {
     "name": "stdout",
     "output_type": "stream",
     "text": [
      "(28974, 2048, 3)\n",
      "(28974, 2048, 3)\n",
      "(28974,)\n"
     ]
    }
   ],
   "source": [
    "for key in data.keys():\n",
    "    print(data[key].shape)"
   ]
  },
  {
   "cell_type": "code",
   "execution_count": 19,
   "metadata": {},
   "outputs": [
    {
     "name": "stdout",
     "output_type": "stream",
     "text": [
      "[[-0.193039    0.0408779   0.3669163 ]\n",
      " [-0.01716815 -0.05691997 -0.4089964 ]\n",
      " [ 0.26603886 -0.07147107  0.1522262 ]\n",
      " ...\n",
      " [-0.23215142  0.01986598 -0.39245927]\n",
      " [-0.18092135  0.01699539  0.23610254]\n",
      " [-0.08672868  0.04085426 -0.33577806]]\n"
     ]
    }
   ],
   "source": [
    "print(data['complete_pcds'][0])\n",
    "pcd_np = data['complete_pcds'][5]"
   ]
  },
  {
   "cell_type": "code",
   "execution_count": 17,
   "metadata": {},
   "outputs": [],
   "source": [
    "pcd_o3d = o3d.geometry.PointCloud()  # create point cloud object\n",
    "pcd_o3d.points = o3d.utility.Vector3dVector(pcd_np)  # set pcd_np as the point cloud points\n",
    "\n",
    "# Visualize:\n",
    "o3d.visualization.draw_geometries([pcd_o3d])"
   ]
  },
  {
   "cell_type": "code",
   "execution_count": 26,
   "metadata": {},
   "outputs": [],
   "source": [
    "import torch.nn as nn\n",
    "from torchsummary import summary"
   ]
  },
  {
   "cell_type": "code",
   "execution_count": 46,
   "metadata": {},
   "outputs": [
    {
     "name": "stdout",
     "output_type": "stream",
     "text": [
      "[Parameter containing:\n",
      "tensor([[1., 1., 1., 1.],\n",
      "        [1., 1., 1., 1.],\n",
      "        [1., 1., 1., 1.]], requires_grad=True)]\n"
     ]
    }
   ],
   "source": [
    "class net1(nn.Module):\n",
    "  def __init__(self):\n",
    "    super().__init__()\n",
    "    # self.conv = nn.Linear(3,4)\n",
    "    self.tens = nn.Parameter(torch.ones(3,4))                       # This won't show up in a parameter list \n",
    "    \n",
    "  # def forward(self, x):\n",
    "  #   return self.conv(x)\n",
    "\n",
    "myNet = net1()\n",
    "print(list(myNet.parameters()))\n",
    "# print(myNet)\n",
    "# summary(myNet, (4,3))"
   ]
  }
 ],
 "metadata": {
  "kernelspec": {
   "display_name": "torch_1",
   "language": "python",
   "name": "python3"
  },
  "language_info": {
   "codemirror_mode": {
    "name": "ipython",
    "version": 3
   },
   "file_extension": ".py",
   "mimetype": "text/x-python",
   "name": "python",
   "nbconvert_exporter": "python",
   "pygments_lexer": "ipython3",
   "version": "3.9.16"
  },
  "orig_nbformat": 4
 },
 "nbformat": 4,
 "nbformat_minor": 2
}
