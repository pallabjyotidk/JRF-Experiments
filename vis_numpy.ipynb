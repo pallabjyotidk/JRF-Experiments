{
 "cells": [
  {
   "cell_type": "code",
   "execution_count": 1,
   "metadata": {},
   "outputs": [],
   "source": [
    "import torch\n",
    "import numpy as np"
   ]
  },
  {
   "attachments": {},
   "cell_type": "markdown",
   "metadata": {},
   "source": [
    "## Torch Flatten"
   ]
  },
  {
   "cell_type": "code",
   "execution_count": 10,
   "metadata": {},
   "outputs": [
    {
     "name": "stdout",
     "output_type": "stream",
     "text": [
      "torch.Size([32, 256, 2, 2, 2])\n"
     ]
    }
   ],
   "source": [
    "input = torch.rand(32, 256, 2, 2, 2)\n",
    "# input = torch.tensor([[[1, 2],[3, 4]],[[5, 6],[7, 8]], [[9,10],[11,12]]])\n",
    "print(input.shape)"
   ]
  },
  {
   "cell_type": "code",
   "execution_count": 17,
   "metadata": {},
   "outputs": [
    {
     "name": "stdout",
     "output_type": "stream",
     "text": [
      "Shape of x :  torch.Size([32, 256, 8])\n",
      "\n",
      "Shape of x :  torch.Size([32, 8, 256])\n",
      "\n"
     ]
    }
   ],
   "source": [
    "x = torch.flatten(input, start_dim=2)\n",
    "print(\"Shape of x : \", x.shape)\n",
    "print()\n",
    "# print(x)\n",
    "x = x.transpose(1,2)\n",
    "print(\"Shape of x : \", x.shape)\n",
    "print()\n",
    "# print(x)"
   ]
  },
  {
   "attachments": {},
   "cell_type": "markdown",
   "metadata": {},
   "source": [
    "## Torch Unfold"
   ]
  },
  {
   "cell_type": "code",
   "execution_count": 22,
   "metadata": {},
   "outputs": [],
   "source": [
    "input = torch.rand(112, 1, 32, 32, 32)"
   ]
  },
  {
   "cell_type": "code",
   "execution_count": 25,
   "metadata": {},
   "outputs": [
    {
     "name": "stdout",
     "output_type": "stream",
     "text": [
      "torch.Size([112, 1, 1, 32, 32, 32])\n",
      "\n",
      "torch.Size([112, 1, 1, 1, 32, 32, 32])\n",
      "\n",
      "torch.Size([112, 1, 1, 1, 1, 32, 32, 32])\n",
      "\n"
     ]
    }
   ],
   "source": [
    "x = input.unfold(2,32,32)\n",
    "print(x.shape)\n",
    "print()\n",
    "# print(x)\n",
    "x = x.unfold(3,32,32)\n",
    "print(x.shape)\n",
    "print()\n",
    "\n",
    "x = x.unfold(4,32,32)\n",
    "print(x.shape)\n",
    "print()"
   ]
  }
 ],
 "metadata": {
  "kernelspec": {
   "display_name": "torch_gpu",
   "language": "python",
   "name": "python3"
  },
  "language_info": {
   "codemirror_mode": {
    "name": "ipython",
    "version": 3
   },
   "file_extension": ".py",
   "mimetype": "text/x-python",
   "name": "python",
   "nbconvert_exporter": "python",
   "pygments_lexer": "ipython3",
   "version": "3.9.16"
  },
  "orig_nbformat": 4
 },
 "nbformat": 4,
 "nbformat_minor": 2
}
