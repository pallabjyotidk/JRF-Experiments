{
 "cells": [
  {
   "cell_type": "code",
   "execution_count": 1,
   "metadata": {},
   "outputs": [],
   "source": [
    "import numpy as np\n",
    "import torch, os\n",
    "import torch.nn as nn\n",
    "import torch.nn.functional as F\n",
    "import torch.onnx"
   ]
  },
  {
   "cell_type": "code",
   "execution_count": 2,
   "metadata": {},
   "outputs": [],
   "source": [
    "class Block(nn.Module):\n",
    "    def __init__(self, in_channels: int, out_channels: int, kernel_size: int, stride: int=1, padding: int=1):\n",
    "        super(Block, self).__init__()\n",
    "\n",
    "        self.conv1 = nn.Conv3d(in_channels, out_channels, kernel_size=kernel_size, stride=stride, padding=padding)\n",
    "        self._relu = nn.ReLU(inplace=True)\n",
    "    \n",
    "    def forward(self, x):\n",
    "        out = self.conv1(x)\n",
    "        out = self._relu(out)\n",
    "        return out"
   ]
  },
  {
   "cell_type": "code",
   "execution_count": 39,
   "metadata": {},
   "outputs": [],
   "source": [
    "res = 32\n",
    "model_name = \"pc_sample_full_res_32.pt\"\n",
    "output_path = \"./saved_models\"\n",
    "model_path = os.path.join(output_path, model_name)"
   ]
  },
  {
   "cell_type": "code",
   "execution_count": 47,
   "metadata": {},
   "outputs": [],
   "source": [
    "visualization = {}\n",
    "def hook_fn(m, i, o):\n",
    "  # print(m)\n",
    "  print(\"------------Input Grad------------\")\n",
    "\n",
    "  for x in range(2):\n",
    "    if x == 0:\n",
    "      visualization['E2'] = x\n",
    "    else:\n",
    "      visualization['E2'] = o\n",
    "\n",
    "  for grad in i:\n",
    "    try:\n",
    "      print(grad.shape)\n",
    "    except AttributeError: \n",
    "      print (\"None found for Gradient\")\n",
    "\n",
    "  print(\"------------Output Grad------------\")\n",
    "  for grad in o:  \n",
    "    try:\n",
    "      print(grad.shape)\n",
    "      # print(grad)\n",
    "    except AttributeError: \n",
    "      print (\"None found for Gradient\")\n",
    "  print(\"\\n\")"
   ]
  },
  {
   "cell_type": "code",
   "execution_count": 48,
   "metadata": {},
   "outputs": [],
   "source": [
    "class Encoder(nn.Module):\n",
    "    def __init__(self, res):\n",
    "        super(Encoder, self).__init__()\n",
    "        \n",
    "        self.E_2 = Block(in_channels=64, out_channels=128, kernel_size=3, stride=2, padding=1)\n",
    "        if res == 32:\n",
    "            self.E_3 = Block(in_channels=128, out_channels=256, kernel_size=4, stride=4, padding=1)\n",
    "        else:\n",
    "            # self.E_3 = Block(in_channels=128, out_channels=256, kernel_size=3, stride=2, padding=1)\n",
    "            self.E_3 = Block(in_channels=256, out_channels=256, kernel_size=3, stride=2, padding=1)\n",
    "    \n",
    "    def forward(self, input, res, model_path):\n",
    "        E_2_output = self.E_2(input)\n",
    "        print(\"E2 output - \")\n",
    "        print(E_2_output.shape)\n",
    "        print(\"\\n-----------\")\n",
    "\n",
    "        if res == 32:\n",
    "            E_3_output = self.E_3(E_2_output)\n",
    "\n",
    "            print(\"E3 output - \")\n",
    "            print(E_3_output.shape)\n",
    "            print(\"\\n-----------\")\n",
    "\n",
    "        if res == 8:\n",
    "            # x = torch.load(model_path)\n",
    "            # # print(x)\n",
    "            # for key in x:\n",
    "            #     if key == \"E_2.conv1.weight\":\n",
    "            #         E_2_res32 = x[\"E_2.conv1.weight\"]\n",
    "            #         print(E_2_res32.shape)\n",
    "            #         break\n",
    "            # ------------------------------\n",
    "\n",
    "            prev_E2_output = visualization['E2']\n",
    "\n",
    "            print(\"E_2_output - \", E_2_output.shape, \", prev_E2_output\", prev_E2_output.shape, \"\\n\")\n",
    "                    \n",
    "            E2_cat = torch.cat((prev_E2_output, E_2_output), dim=1)\n",
    "            print(\"E2_cat output - \")\n",
    "            print(E2_cat.shape)\n",
    "            print(\"\\n-----------\")\n",
    "\n",
    "            E_3_output = self.E_3(E2_cat)\n",
    "            print(\"E3_output  - \", E_3_output.shape, \"\\n\")\n",
    "\n",
    "        return \"Done\""
   ]
  },
  {
   "cell_type": "code",
   "execution_count": 50,
   "metadata": {},
   "outputs": [],
   "source": [
    "\n",
    "model = Encoder(res)\n",
    "if res == 32:\n",
    "    model.E_2.register_forward_hook(hook_fn)\n",
    "# print(model)"
   ]
  },
  {
   "cell_type": "code",
   "execution_count": 51,
   "metadata": {},
   "outputs": [
    {
     "name": "stdout",
     "output_type": "stream",
     "text": [
      "------------Input Grad------------\n",
      "torch.Size([1, 64, 16, 16, 16])\n",
      "------------Output Grad------------\n",
      "torch.Size([128, 8, 8, 8])\n",
      "\n",
      "\n",
      "E2 output - \n",
      "torch.Size([1, 128, 8, 8, 8])\n",
      "\n",
      "-----------\n",
      "E3 output - \n",
      "torch.Size([1, 256, 2, 2, 2])\n",
      "\n",
      "-----------\n"
     ]
    }
   ],
   "source": [
    "input = torch.rand(1, 64, 16, 16, 16)\n",
    "a = model(input, res, model_path)\n",
    "# print(a)\n",
    "# print(a.shape)"
   ]
  },
  {
   "cell_type": "code",
   "execution_count": null,
   "metadata": {},
   "outputs": [],
   "source": [
    "visualization['E2']"
   ]
  },
  {
   "cell_type": "code",
   "execution_count": 64,
   "metadata": {},
   "outputs": [],
   "source": [
    "torch.save(model, model_path)\n",
    "# torch.onxx.export(model, input, os.path.join(output_path, \"res_32.onxx\"), export_params=True)"
   ]
  },
  {
   "cell_type": "code",
   "execution_count": 67,
   "metadata": {},
   "outputs": [
    {
     "name": "stdout",
     "output_type": "stream",
     "text": [
      "E_2.conv1.weight : torch.Size([128, 64, 3, 3, 3])\n",
      "E_2.conv1.bias : torch.Size([128])\n",
      "E_3.conv1.weight : torch.Size([256, 128, 4, 4, 4])\n",
      "E_3.conv1.bias : torch.Size([256])\n"
     ]
    }
   ],
   "source": [
    "# model.load_state_dict(torch.load(model_path))\n",
    "\n",
    "x = torch.load(model_path)\n",
    "# print(x)\n",
    "# for key in x:\n",
    "#     print(key)\n",
    "#     print(x[key].shape)\n",
    "for name, param in x.named_parameters():\n",
    "    print(name, ':', param.shape)\n",
    "\n"
   ]
  },
  {
   "cell_type": "code",
   "execution_count": null,
   "metadata": {},
   "outputs": [],
   "source": []
  },
  {
   "attachments": {},
   "cell_type": "markdown",
   "metadata": {},
   "source": [
    "### For res=32\n",
    "\n",
    "E2 output - \n",
    "`torch.Size([1, 128, 8, 8, 8])`\n",
    "\n",
    "E3 output - \n",
    "`torch.Size([1, 256, 2, 2, 2])`\n",
    "\n",
    "----\n",
    "\n",
    "### For res=8\n",
    "\n",
    "E2 output - \n",
    "torch.Size([1, 128, 8, 8, 8])\n",
    "\n",
    "E_2_output -  torch.Size([1, 128, 8, 8, 8]) , prev_E2_output torch.Size([1, 128, 8, 8, 8]) \n",
    "\n",
    "E2_cat output - \n",
    "torch.Size([1, 256, 8, 8, 8])\n",
    "\n",
    "E3_output  -  torch.Size([1, 256, 4, 4, 4]) \n",
    "\n",
    "\n",
    "\n"
   ]
  }
 ],
 "metadata": {
  "kernelspec": {
   "display_name": "torch_gpu",
   "language": "python",
   "name": "python3"
  },
  "language_info": {
   "codemirror_mode": {
    "name": "ipython",
    "version": 3
   },
   "file_extension": ".py",
   "mimetype": "text/x-python",
   "name": "python",
   "nbconvert_exporter": "python",
   "pygments_lexer": "ipython3",
   "version": "3.9.16"
  },
  "orig_nbformat": 4
 },
 "nbformat": 4,
 "nbformat_minor": 2
}
